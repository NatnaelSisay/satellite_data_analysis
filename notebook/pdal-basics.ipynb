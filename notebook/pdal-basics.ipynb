{
 "cells": [
  {
   "cell_type": "code",
   "execution_count": 8,
   "id": "e5505bf7",
   "metadata": {},
   "outputs": [],
   "source": [
    "import warnings\n",
    "warnings.filterwarnings('ignore')\n",
    "# import geoplot as gplt\n",
    "\n",
    "# import geopandas as gpd\n",
    "# import geoplot.crs as gcrs\n",
    "import imageio\n",
    "import pandas as pd\n",
    "import pathlib\n",
    "import matplotlib.pyplot as plt\n",
    "import mapclassify as mc\n",
    "import numpy as np\n",
    "import laspy\n",
    "import rasterio\n",
    "from rasterio import mask\n",
    "import folium"
   ]
  },
  {
   "cell_type": "code",
   "execution_count": 14,
   "id": "35b04c09",
   "metadata": {},
   "outputs": [],
   "source": [
    "# !pip install geopandas"
   ]
  },
  {
   "cell_type": "code",
   "execution_count": 13,
   "id": "fdf443e3",
   "metadata": {},
   "outputs": [],
   "source": [
    "# import geopandas"
   ]
  },
  {
   "cell_type": "code",
   "execution_count": 27,
   "id": "337361b6-46a0-4ba1-bde2-44dad382ed5b",
   "metadata": {},
   "outputs": [
    {
     "name": "stdout",
     "output_type": "stream",
     "text": [
      "Run pipe ...\n",
      "File Path :  ../pipeline.json\n",
      "data LInk :  https://s3-us-west-2.amazonaws.com/usgs-lidar-public/IA_FullState/ept.json\n",
      "Fetching Completed!\n"
     ]
    },
    {
     "name": "stderr",
     "output_type": "stream",
     "text": [
      "(filters.reprojection Error) GDAL failure (1) PROJ: Unrecognized horizontal grid format\n",
      "(filters.reprojection Error) GDAL failure (1) PROJ: hgridshift: could not find required grid(s).\n",
      "(filters.reprojection Error) GDAL failure (1) PROJ: pipeline: Pipeline: Bad step definition: inv (File not found or invalid)\n",
      "(filters.reprojection Error) GDAL failure (1) PROJ: Unrecognized horizontal grid format\n",
      "(filters.reprojection Error) GDAL failure (1) PROJ: hgridshift: could not find required grid(s).\n",
      "(filters.reprojection Error) GDAL failure (1) PROJ: pipeline: Pipeline: Bad step definition: inv (File not found or invalid)\n",
      "(filters.reprojection Error) GDAL failure (1) PROJ: Unrecognized horizontal grid format\n",
      "(filters.reprojection Error) GDAL failure (1) PROJ: hgridshift: could not find required grid(s).\n",
      "(filters.reprojection Error) GDAL failure (1) PROJ: pipeline: Pipeline: Bad step definition: inv (File not found or invalid)\n",
      "(filters.reprojection Error) GDAL failure (1) PROJ: Unrecognized horizontal grid format\n",
      "(filters.reprojection Error) GDAL failure (1) PROJ: hgridshift: could not find required grid(s).\n",
      "(filters.reprojection Error) GDAL failure (1) PROJ: pipeline: Pipeline: Bad step definition: inv (File not found or invalid)\n",
      "(filters.reprojection Error) GDAL failure (1) PROJ: Unrecognized horizontal grid format\n",
      "(filters.reprojection Error) GDAL failure (1) PROJ: hgridshift: could not find required grid(s).\n",
      "(filters.reprojection Error) GDAL failure (1) PROJ: pipeline: Pipeline: Bad step definition: inv (File not found or invalid)\n",
      "(filters.reprojection Error) GDAL failure (1) PROJ: Unrecognized horizontal grid format\n",
      "(filters.reprojection Error) GDAL failure (1) PROJ: hgridshift: could not find required grid(s).\n",
      "(filters.reprojection Error) GDAL failure (1) PROJ: pipeline: Pipeline: Bad step definition: inv (File not found or invalid)\n",
      "(filters.reprojection Error) GDAL failure (1) PROJ: Unrecognized horizontal grid format\n",
      "(filters.reprojection Error) GDAL failure (1) PROJ: hgridshift: could not find required grid(s).\n",
      "(filters.reprojection Error) GDAL failure (1) PROJ: pipeline: Pipeline: Bad step definition: inv (File not found or invalid)\n",
      "(filters.reprojection Error) GDAL failure (1) PROJ: Unrecognized horizontal grid format\n",
      "(filters.reprojection Error) GDAL failure (1) PROJ: hgridshift: could not find required grid(s).\n",
      "(filters.reprojection Error) GDAL failure (1) PROJ: pipeline: Pipeline: Bad step definition: inv (File not found or invalid)\n",
      "(filters.reprojection Error) GDAL failure (1) PROJ: Unrecognized horizontal grid format\n",
      "(filters.reprojection Error) GDAL failure (1) PROJ: hgridshift: could not find required grid(s).\n",
      "(filters.reprojection Error) GDAL failure (1) PROJ: pipeline: Pipeline: Bad step definition: inv (File not found or invalid)\n",
      "(filters.reprojection Error) GDAL failure (1) PROJ: Unrecognized horizontal grid format\n",
      "(filters.reprojection Error) GDAL failure (1) PROJ: hgridshift: could not find required grid(s).\n",
      "(filters.reprojection Error) GDAL failure (1) PROJ: pipeline: Pipeline: Bad step definition: inv (File not found or invalid)\n",
      "(filters.reprojection Error) GDAL failure (1) PROJ: Unrecognized horizontal grid format\n",
      "(filters.reprojection Error) GDAL failure (1) PROJ: hgridshift: could not find required grid(s).\n",
      "(filters.reprojection Error) GDAL failure (1) PROJ: pipeline: Pipeline: Bad step definition: inv (File not found or invalid)\n",
      "(filters.reprojection Error) GDAL failure (1) PROJ: Unrecognized horizontal grid format\n",
      "(filters.reprojection Error) GDAL failure (1) PROJ: hgridshift: could not find required grid(s).\n",
      "(filters.reprojection Error) GDAL failure (1) PROJ: pipeline: Pipeline: Bad step definition: inv (File not found or invalid)\n",
      "(filters.reprojection Error) GDAL failure (1) PROJ: Unrecognized horizontal grid format\n",
      "(filters.reprojection Error) GDAL failure (1) PROJ: hgridshift: could not find required grid(s).\n",
      "(filters.reprojection Error) GDAL failure (1) PROJ: pipeline: Pipeline: Bad step definition: inv (File not found or invalid)\n",
      "(filters.reprojection Error) GDAL failure (1) PROJ: Unrecognized horizontal grid format\n",
      "(filters.reprojection Error) GDAL failure (1) PROJ: hgridshift: could not find required grid(s).\n",
      "(filters.reprojection Error) GDAL failure (1) PROJ: pipeline: Pipeline: Bad step definition: inv (File not found or invalid)\n"
     ]
    }
   ],
   "source": [
    "import json, ast\n",
    "from os import stat\n",
    "import pdal\n",
    "\n",
    "\n",
    "def read_json(file_name):\n",
    "  '''\n",
    "  Read json file and return the string format\n",
    "  '''\n",
    "\n",
    "  try:\n",
    "    file_path = f\"../{file_name}\"\n",
    "    print(\"File Path : \", file_path)\n",
    "    with open(file_path, 'r') as json_file:\n",
    "      data = json.loads(json_file.read())\n",
    "    return data\n",
    "\n",
    "  except:\n",
    "    print('File Not found')\n",
    "    return None\n",
    "\n",
    "\n",
    "def prepare_pipe(bound, us_state='IA_FullState'):\n",
    "    data = read_json('pipeline.json')\n",
    "    data['pipeline'][0]['bounds'] = bound\n",
    "    data['pipeline'][0]['filename'] = \"https://s3-us-west-2.amazonaws.com/usgs-lidar-public/\"+us_state+\"/ept.json\"\n",
    "    \n",
    "    data['pipeline'][6]['filename'] = '../data/laz/'+us_state+'.laz'\n",
    "    data['pipeline'][7]['filename'] = '../data/tiff/'+us_state+'.tiff'\n",
    "    \n",
    "\n",
    "    print(\"data LInk : \" , data['pipeline'][0]['filename'])\n",
    "    return data\n",
    "\n",
    "\n",
    "def run_pipe(bound, us_state):\n",
    "    print(\"Run pipe ...\")\n",
    "    result = prepare_pipe(bound, us_state)\n",
    "    pipeline = pdal.Pipeline(json.dumps(result))\n",
    "    pipe_result  = pipeline.execute()\n",
    "    print(\"Fetching Completed!\")\n",
    "\n",
    "def test_json_reading():\n",
    "    data = read_json('pipeline.json')\n",
    "    print(data)\n",
    "    \n",
    "\n",
    "\n",
    "def test_prepare_pipe(bound):\n",
    "    result = prepare_pipe(bound)\n",
    "    print(result)\n",
    "\n",
    "## Initial Files\n",
    "bound = str(([-10425171.940, -10423171.940], [5164494.710, 5166494.710]))\n",
    "state = 'IA_FullState'\n",
    "\n",
    "\n",
    "## Test Things are working\n",
    "# test_json_reading()\n",
    "# test_prepare_pipe(bound)\n",
    "    \n",
    "\n",
    "run_pipe(bound, state)\n"
   ]
  },
  {
   "cell_type": "code",
   "execution_count": 3,
   "id": "ccdf9c93",
   "metadata": {},
   "outputs": [],
   "source": [
    "import pdal"
   ]
  },
  {
   "cell_type": "code",
   "execution_count": 5,
   "id": "1707d78d-aa79-40b6-a83c-206afd6eb27c",
   "metadata": {},
   "outputs": [],
   "source": [
    "import laspy"
   ]
  },
  {
   "cell_type": "code",
   "execution_count": 4,
   "id": "059f61ab-74b9-4e55-88a3-1d52460fa624",
   "metadata": {},
   "outputs": [],
   "source": [
    "import geopandas as gpd"
   ]
  },
  {
   "cell_type": "code",
   "execution_count": null,
   "id": "90e61591-c0f8-431c-96af-a2dad4d61af8",
   "metadata": {},
   "outputs": [],
   "source": []
  }
 ],
 "metadata": {
  "kernelspec": {
   "display_name": "Python [conda env:root] *",
   "language": "python",
   "name": "conda-root-py"
  },
  "language_info": {
   "codemirror_mode": {
    "name": "ipython",
    "version": 3
   },
   "file_extension": ".py",
   "mimetype": "text/x-python",
   "name": "python",
   "nbconvert_exporter": "python",
   "pygments_lexer": "ipython3",
   "version": "3.9.6"
  }
 },
 "nbformat": 4,
 "nbformat_minor": 5
}

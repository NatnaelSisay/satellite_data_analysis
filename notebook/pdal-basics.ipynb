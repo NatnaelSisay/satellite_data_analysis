{
 "cells": [
  {
   "cell_type": "code",
   "execution_count": 48,
   "id": "e5505bf7",
   "metadata": {},
   "outputs": [],
   "source": [
    "import warnings\n",
    "warnings.filterwarnings('ignore')\n",
    "# import geoplot as gplt\n",
    "\n",
    "# import geopandas as gpd\n",
    "# import geoplot.crs as gcrs\n",
    "import imageio\n",
    "import pandas as pd\n",
    "import pathlib\n",
    "import matplotlib.pyplot as plt\n",
    "import mapclassify as mc\n",
    "import numpy as np\n",
    "import laspy\n",
    "import rasterio\n",
    "from rasterio import mask\n",
    "import folium"
   ]
  },
  {
   "cell_type": "code",
   "execution_count": 14,
   "id": "35b04c09",
   "metadata": {},
   "outputs": [],
   "source": [
    "# !pip install geopandas"
   ]
  },
  {
   "cell_type": "code",
   "execution_count": 13,
   "id": "fdf443e3",
   "metadata": {},
   "outputs": [],
   "source": [
    "# import geopandas"
   ]
  },
  {
   "cell_type": "code",
   "execution_count": 53,
   "id": "337361b6-46a0-4ba1-bde2-44dad382ed5b",
   "metadata": {},
   "outputs": [
    {
     "name": "stdout",
     "output_type": "stream",
     "text": [
      "Run pipe ...\n",
      "File Path :  ../pipeline.json\n",
      "data LInk :  https://s3-us-west-2.amazonaws.com/usgs-lidar-public/IA_FullState/ept.json\n",
      "Fetching Completed!\n"
     ]
    },
    {
     "name": "stderr",
     "output_type": "stream",
     "text": [
      "(filters.reprojection Error) GDAL failure (1) PROJ: Unrecognized horizontal grid format\n",
      "(filters.reprojection Error) GDAL failure (1) PROJ: hgridshift: could not find required grid(s).\n",
      "(filters.reprojection Error) GDAL failure (1) PROJ: pipeline: Pipeline: Bad step definition: inv (File not found or invalid)\n",
      "(filters.reprojection Error) GDAL failure (1) PROJ: Unrecognized horizontal grid format\n",
      "(filters.reprojection Error) GDAL failure (1) PROJ: hgridshift: could not find required grid(s).\n",
      "(filters.reprojection Error) GDAL failure (1) PROJ: pipeline: Pipeline: Bad step definition: inv (File not found or invalid)\n",
      "(filters.reprojection Error) GDAL failure (1) PROJ: Unrecognized horizontal grid format\n",
      "(filters.reprojection Error) GDAL failure (1) PROJ: hgridshift: could not find required grid(s).\n",
      "(filters.reprojection Error) GDAL failure (1) PROJ: pipeline: Pipeline: Bad step definition: inv (File not found or invalid)\n",
      "(filters.reprojection Error) GDAL failure (1) PROJ: Unrecognized horizontal grid format\n",
      "(filters.reprojection Error) GDAL failure (1) PROJ: hgridshift: could not find required grid(s).\n",
      "(filters.reprojection Error) GDAL failure (1) PROJ: pipeline: Pipeline: Bad step definition: inv (File not found or invalid)\n",
      "(filters.reprojection Error) GDAL failure (1) PROJ: Unrecognized horizontal grid format\n",
      "(filters.reprojection Error) GDAL failure (1) PROJ: hgridshift: could not find required grid(s).\n",
      "(filters.reprojection Error) GDAL failure (1) PROJ: pipeline: Pipeline: Bad step definition: inv (File not found or invalid)\n",
      "(filters.reprojection Error) GDAL failure (1) PROJ: Unrecognized horizontal grid format\n",
      "(filters.reprojection Error) GDAL failure (1) PROJ: hgridshift: could not find required grid(s).\n",
      "(filters.reprojection Error) GDAL failure (1) PROJ: pipeline: Pipeline: Bad step definition: inv (File not found or invalid)\n",
      "(filters.reprojection Error) GDAL failure (1) PROJ: Unrecognized horizontal grid format\n",
      "(filters.reprojection Error) GDAL failure (1) PROJ: hgridshift: could not find required grid(s).\n",
      "(filters.reprojection Error) GDAL failure (1) PROJ: pipeline: Pipeline: Bad step definition: inv (File not found or invalid)\n",
      "(filters.reprojection Error) GDAL failure (1) PROJ: Unrecognized horizontal grid format\n",
      "(filters.reprojection Error) GDAL failure (1) PROJ: hgridshift: could not find required grid(s).\n",
      "(filters.reprojection Error) GDAL failure (1) PROJ: pipeline: Pipeline: Bad step definition: inv (File not found or invalid)\n",
      "(filters.reprojection Error) GDAL failure (1) PROJ: Unrecognized horizontal grid format\n",
      "(filters.reprojection Error) GDAL failure (1) PROJ: hgridshift: could not find required grid(s).\n",
      "(filters.reprojection Error) GDAL failure (1) PROJ: pipeline: Pipeline: Bad step definition: inv (File not found or invalid)\n",
      "(filters.reprojection Error) GDAL failure (1) PROJ: Unrecognized horizontal grid format\n",
      "(filters.reprojection Error) GDAL failure (1) PROJ: hgridshift: could not find required grid(s).\n",
      "(filters.reprojection Error) GDAL failure (1) PROJ: pipeline: Pipeline: Bad step definition: inv (File not found or invalid)\n",
      "(filters.reprojection Error) GDAL failure (1) PROJ: Unrecognized horizontal grid format\n",
      "(filters.reprojection Error) GDAL failure (1) PROJ: hgridshift: could not find required grid(s).\n",
      "(filters.reprojection Error) GDAL failure (1) PROJ: pipeline: Pipeline: Bad step definition: inv (File not found or invalid)\n",
      "(filters.reprojection Error) GDAL failure (1) PROJ: Unrecognized horizontal grid format\n",
      "(filters.reprojection Error) GDAL failure (1) PROJ: hgridshift: could not find required grid(s).\n",
      "(filters.reprojection Error) GDAL failure (1) PROJ: pipeline: Pipeline: Bad step definition: inv (File not found or invalid)\n",
      "(filters.reprojection Error) GDAL failure (1) PROJ: Unrecognized horizontal grid format\n",
      "(filters.reprojection Error) GDAL failure (1) PROJ: hgridshift: could not find required grid(s).\n",
      "(filters.reprojection Error) GDAL failure (1) PROJ: pipeline: Pipeline: Bad step definition: inv (File not found or invalid)\n",
      "(filters.reprojection Error) GDAL failure (1) PROJ: Unrecognized horizontal grid format\n",
      "(filters.reprojection Error) GDAL failure (1) PROJ: hgridshift: could not find required grid(s).\n",
      "(filters.reprojection Error) GDAL failure (1) PROJ: pipeline: Pipeline: Bad step definition: inv (File not found or invalid)\n"
     ]
    }
   ],
   "source": [
    "import json, ast\n",
    "from os import stat\n",
    "import pdal\n",
    "\n",
    "\n",
    "def read_json(file_name):\n",
    "  '''\n",
    "  Read json file and return the string format\n",
    "  '''\n",
    "\n",
    "  try:\n",
    "    file_path = f\"../{file_name}\"\n",
    "    print(\"File Path : \", file_path)\n",
    "    with open(file_path, 'r') as json_file:\n",
    "      data = json.loads(json_file.read())\n",
    "    return data\n",
    "\n",
    "  except:\n",
    "    print('File Not found')\n",
    "    return None\n",
    "\n",
    "\n",
    "def prepare_pipe(bound, us_state='IA_FullState'):\n",
    "    data = read_json('pipeline.json')\n",
    "    data['pipeline'][0]['bounds'] = bound\n",
    "    data['pipeline'][0]['filename'] = \"https://s3-us-west-2.amazonaws.com/usgs-lidar-public/\"+us_state+\"/ept.json\"\n",
    "    \n",
    "    data['pipeline'][6]['filename'] = '../data/laz/'+us_state+'.laz'\n",
    "    data['pipeline'][7]['filename'] = '../data/tiff/'+us_state+'.tiff'\n",
    "    \n",
    "\n",
    "    print(\"data LInk : \" , data['pipeline'][0]['filename'])\n",
    "    return data\n",
    "\n",
    "\n",
    "def run_pipe(bound, us_state):\n",
    "    print(\"Run pipe ...\")\n",
    "    result = prepare_pipe(bound, us_state)\n",
    "    pipeline = pdal.Pipeline(json.dumps(result))\n",
    "    pipe_result  = pipeline.execute()\n",
    "    print(\"Fetching Completed!\")\n",
    "\n",
    "def test_json_reading():\n",
    "    data = read_json('pipeline.json')\n",
    "    print(data)\n",
    "    \n",
    "\n",
    "\n",
    "def test_prepare_pipe(bound):\n",
    "    result = prepare_pipe(bound)\n",
    "    print(result)\n",
    "\n",
    "## Initial Files\n",
    "bound = str(([-10425171.940, -10423171.940], [5164494.710, 5166494.710]))\n",
    "state = 'IA_FullState'\n",
    "\n",
    "\n",
    "## Test Things are working\n",
    "# test_json_reading()\n",
    "# test_prepare_pipe(bound)\n",
    "    \n",
    "\n",
    "run_pipe(bound, state)\n"
   ]
  },
  {
   "cell_type": "code",
   "execution_count": 54,
   "id": "ccdf9c93",
   "metadata": {},
   "outputs": [],
   "source": [
    "import pdal"
   ]
  },
  {
   "cell_type": "code",
   "execution_count": 32,
   "id": "1707d78d-aa79-40b6-a83c-206afd6eb27c",
   "metadata": {},
   "outputs": [],
   "source": [
    "import laspy"
   ]
  },
  {
   "cell_type": "code",
   "execution_count": 4,
   "id": "059f61ab-74b9-4e55-88a3-1d52460fa624",
   "metadata": {},
   "outputs": [],
   "source": [
    "import geopandas as gpd"
   ]
  },
  {
   "cell_type": "code",
   "execution_count": null,
   "id": "90e61591-c0f8-431c-96af-a2dad4d61af8",
   "metadata": {},
   "outputs": [],
   "source": [
    "## Read file with laspy the .laz file\n",
    "## Generate POINT with x, y\n",
    "## Elevation with Z\n",
    "## Geopandas Data frame, two columns -> Elevation : Z, Geometry: POINTS\n",
    "## Return the Dataframe"
   ]
  },
  {
   "cell_type": "code",
   "execution_count": 40,
   "id": "89e078fd-2eb7-4674-8716-a160e830c29b",
   "metadata": {},
   "outputs": [],
   "source": [
    "def read_laz(file_name):\n",
    "    try:\n",
    "        las = laspy.read(file_name)\n",
    "        return las\n",
    "    except FileNotFoundError:\n",
    "        print(\"Log: File Not found\")\n",
    "las_path = '../data/las/IA_FullState.las'    \n",
    "las_file = read_laz(las_path)"
   ]
  },
  {
   "cell_type": "code",
   "execution_count": 39,
   "id": "a128368f-089f-45ec-b026-3d68c3849c91",
   "metadata": {},
   "outputs": [],
   "source": [
    "from shapely.geometry import box, Point, Polygon"
   ]
  },
  {
   "cell_type": "code",
   "execution_count": 41,
   "id": "3ff643b0-f61c-4b47-ab26-042a128408d8",
   "metadata": {},
   "outputs": [],
   "source": [
    "## Computation Intensive\n",
    "def generate_points_elevation(las_file):\n",
    "    '''\n",
    "    Return Points (x, y) and elevation (z)\n",
    "    '''\n",
    "    points = [Point(x, y) for x,y in zip(las_file.x, las_file.y)]\n",
    "    elevation = np.array(las_file.z)\n",
    "    \n",
    "    return points, elevation\n",
    "\n",
    "\n",
    "    \n",
    "points, elevation = generate_points_elevation(las_file)"
   ]
  },
  {
   "cell_type": "code",
   "execution_count": 44,
   "id": "c93ca283-83f1-471d-bac6-a2c0556fd8f9",
   "metadata": {},
   "outputs": [
    {
     "data": {
      "text/plain": [
       "[<shapely.geometry.point.Point at 0x7f71169de5b0>,\n",
       " <shapely.geometry.point.Point at 0x7f71169de490>,\n",
       " <shapely.geometry.point.Point at 0x7f71172e6730>,\n",
       " <shapely.geometry.point.Point at 0x7f71172e64f0>,\n",
       " <shapely.geometry.point.Point at 0x7f71172e6520>,\n",
       " <shapely.geometry.point.Point at 0x7f71172e68b0>,\n",
       " <shapely.geometry.point.Point at 0x7f71172e69a0>,\n",
       " <shapely.geometry.point.Point at 0x7f71172e67c0>,\n",
       " <shapely.geometry.point.Point at 0x7f71172e6190>,\n",
       " <shapely.geometry.point.Point at 0x7f71169d20d0>]"
      ]
     },
     "execution_count": 44,
     "metadata": {},
     "output_type": "execute_result"
    }
   ],
   "source": [
    "points[:10]"
   ]
  },
  {
   "cell_type": "code",
   "execution_count": 43,
   "id": "6cfa3a00-d5f4-4773-b383-ef6aa0977d4d",
   "metadata": {},
   "outputs": [
    {
     "data": {
      "text/plain": [
       "array([275.72, 275.75, 274.39, 275.89, 276.1 , 276.17, 276.4 , 276.81,\n",
       "       276.54, 276.1 ])"
      ]
     },
     "execution_count": 43,
     "metadata": {},
     "output_type": "execute_result"
    }
   ],
   "source": [
    "elevation[:10]"
   ]
  },
  {
   "cell_type": "code",
   "execution_count": 45,
   "id": "a758b248-2994-4cc1-8290-446c756a5b17",
   "metadata": {},
   "outputs": [],
   "source": [
    "import geopandas as gpd"
   ]
  },
  {
   "cell_type": "code",
   "execution_count": 47,
   "id": "c29b7a71-25c8-418b-bf5f-edfd0c1b85cd",
   "metadata": {},
   "outputs": [
    {
     "data": {
      "text/html": [
       "<div>\n",
       "<style scoped>\n",
       "    .dataframe tbody tr th:only-of-type {\n",
       "        vertical-align: middle;\n",
       "    }\n",
       "\n",
       "    .dataframe tbody tr th {\n",
       "        vertical-align: top;\n",
       "    }\n",
       "\n",
       "    .dataframe thead th {\n",
       "        text-align: right;\n",
       "    }\n",
       "</style>\n",
       "<table border=\"1\" class=\"dataframe\">\n",
       "  <thead>\n",
       "    <tr style=\"text-align: right;\">\n",
       "      <th></th>\n",
       "      <th>elevation</th>\n",
       "      <th>geometry</th>\n",
       "    </tr>\n",
       "  </thead>\n",
       "  <tbody>\n",
       "    <tr>\n",
       "      <th>0</th>\n",
       "      <td>275.72</td>\n",
       "      <td>POINT (447494.080 4653790.160)</td>\n",
       "    </tr>\n",
       "    <tr>\n",
       "      <th>1</th>\n",
       "      <td>275.75</td>\n",
       "      <td>POINT (447488.810 4653790.160)</td>\n",
       "    </tr>\n",
       "    <tr>\n",
       "      <th>2</th>\n",
       "      <td>274.39</td>\n",
       "      <td>POINT (447476.510 4653788.410)</td>\n",
       "    </tr>\n",
       "    <tr>\n",
       "      <th>3</th>\n",
       "      <td>275.89</td>\n",
       "      <td>POINT (447485.510 4653790.420)</td>\n",
       "    </tr>\n",
       "    <tr>\n",
       "      <th>4</th>\n",
       "      <td>276.10</td>\n",
       "      <td>POINT (447489.140 4653791.210)</td>\n",
       "    </tr>\n",
       "  </tbody>\n",
       "</table>\n",
       "</div>"
      ],
      "text/plain": [
       "   elevation                        geometry\n",
       "0     275.72  POINT (447494.080 4653790.160)\n",
       "1     275.75  POINT (447488.810 4653790.160)\n",
       "2     274.39  POINT (447476.510 4653788.410)\n",
       "3     275.89  POINT (447485.510 4653790.420)\n",
       "4     276.10  POINT (447489.140 4653791.210)"
      ]
     },
     "execution_count": 47,
     "metadata": {},
     "output_type": "execute_result"
    }
   ],
   "source": [
    "def create_geopandasdf(geometry_points, elevation):\n",
    "    '''\n",
    "    Return Geopandas data frame from elevation and geometic points\n",
    "    '''\n",
    "    geo_df = gpd.GeoDataFrame({\"elevation\": elevation, \"geometry\":geometry_points})\n",
    "    geo_df.set_geometry('geometry')\n",
    "    geo_df.set_crs(epsg=26915, inplace=True)\n",
    "\n",
    "    return geo_df\n",
    "\n",
    "df = create_geopandasdf(points, elevation)\n",
    "df.head()\n"
   ]
  },
  {
   "cell_type": "code",
   "execution_count": null,
   "id": "866bd45d-2084-4cbe-89fd-9d27fd235677",
   "metadata": {},
   "outputs": [],
   "source": []
  }
 ],
 "metadata": {
  "kernelspec": {
   "display_name": "Python [conda env:root] *",
   "language": "python",
   "name": "conda-root-py"
  },
  "language_info": {
   "codemirror_mode": {
    "name": "ipython",
    "version": 3
   },
   "file_extension": ".py",
   "mimetype": "text/x-python",
   "name": "python",
   "nbconvert_exporter": "python",
   "pygments_lexer": "ipython3",
   "version": "3.9.6"
  }
 },
 "nbformat": 4,
 "nbformat_minor": 5
}

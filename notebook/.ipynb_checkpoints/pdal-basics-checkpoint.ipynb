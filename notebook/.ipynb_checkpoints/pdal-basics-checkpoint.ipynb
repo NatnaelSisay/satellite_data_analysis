{
 "cells": [
  {
   "cell_type": "code",
   "execution_count": 48,
   "id": "e5505bf7",
   "metadata": {},
   "outputs": [],
   "source": [
    "import warnings\n",
    "warnings.filterwarnings('ignore')\n",
    "# import geoplot as gplt\n",
    "\n",
    "# import geopandas as gpd\n",
    "# import geoplot.crs as gcrs\n",
    "import imageio\n",
    "import pandas as pd\n",
    "import pathlib\n",
    "import matplotlib.pyplot as plt\n",
    "import mapclassify as mc\n",
    "import numpy as np\n",
    "import laspy\n",
    "import rasterio\n",
    "from rasterio import mask\n",
    "import folium"
   ]
  },
  {
   "cell_type": "code",
   "execution_count": 14,
   "id": "35b04c09",
   "metadata": {},
   "outputs": [],
   "source": [
    "# !pip install geopandas"
   ]
  },
  {
   "cell_type": "code",
   "execution_count": 13,
   "id": "fdf443e3",
   "metadata": {},
   "outputs": [],
   "source": [
    "# import geopandas"
   ]
  },
  {
   "cell_type": "code",
   "execution_count": 64,
   "id": "337361b6-46a0-4ba1-bde2-44dad382ed5b",
   "metadata": {},
   "outputs": [
    {
     "name": "stdout",
     "output_type": "stream",
     "text": [
      "Run pipe ...\n",
      "File Path :  ../pipeline.json\n",
      "data LInk :  https://s3-us-west-2.amazonaws.com/usgs-lidar-public/IA_FullState/ept.json\n",
      "Fetching Completed!\n"
     ]
    },
    {
     "name": "stderr",
     "output_type": "stream",
     "text": [
      "(filters.reprojection Error) GDAL failure (1) PROJ: Unrecognized horizontal grid format\n",
      "(filters.reprojection Error) GDAL failure (1) PROJ: hgridshift: could not find required grid(s).\n",
      "(filters.reprojection Error) GDAL failure (1) PROJ: pipeline: Pipeline: Bad step definition: inv (File not found or invalid)\n",
      "(filters.reprojection Error) GDAL failure (1) PROJ: Unrecognized horizontal grid format\n",
      "(filters.reprojection Error) GDAL failure (1) PROJ: hgridshift: could not find required grid(s).\n",
      "(filters.reprojection Error) GDAL failure (1) PROJ: pipeline: Pipeline: Bad step definition: inv (File not found or invalid)\n",
      "(filters.reprojection Error) GDAL failure (1) PROJ: Unrecognized horizontal grid format\n",
      "(filters.reprojection Error) GDAL failure (1) PROJ: hgridshift: could not find required grid(s).\n",
      "(filters.reprojection Error) GDAL failure (1) PROJ: pipeline: Pipeline: Bad step definition: inv (File not found or invalid)\n",
      "(filters.reprojection Error) GDAL failure (1) PROJ: Unrecognized horizontal grid format\n",
      "(filters.reprojection Error) GDAL failure (1) PROJ: hgridshift: could not find required grid(s).\n",
      "(filters.reprojection Error) GDAL failure (1) PROJ: pipeline: Pipeline: Bad step definition: inv (File not found or invalid)\n",
      "(filters.reprojection Error) GDAL failure (1) PROJ: Unrecognized horizontal grid format\n",
      "(filters.reprojection Error) GDAL failure (1) PROJ: hgridshift: could not find required grid(s).\n",
      "(filters.reprojection Error) GDAL failure (1) PROJ: pipeline: Pipeline: Bad step definition: inv (File not found or invalid)\n",
      "(filters.reprojection Error) GDAL failure (1) PROJ: Unrecognized horizontal grid format\n",
      "(filters.reprojection Error) GDAL failure (1) PROJ: hgridshift: could not find required grid(s).\n",
      "(filters.reprojection Error) GDAL failure (1) PROJ: pipeline: Pipeline: Bad step definition: inv (File not found or invalid)\n",
      "(filters.reprojection Error) GDAL failure (1) PROJ: Unrecognized horizontal grid format\n",
      "(filters.reprojection Error) GDAL failure (1) PROJ: hgridshift: could not find required grid(s).\n",
      "(filters.reprojection Error) GDAL failure (1) PROJ: pipeline: Pipeline: Bad step definition: inv (File not found or invalid)\n",
      "(filters.reprojection Error) GDAL failure (1) PROJ: Unrecognized horizontal grid format\n",
      "(filters.reprojection Error) GDAL failure (1) PROJ: hgridshift: could not find required grid(s).\n",
      "(filters.reprojection Error) GDAL failure (1) PROJ: pipeline: Pipeline: Bad step definition: inv (File not found or invalid)\n",
      "(filters.reprojection Error) GDAL failure (1) PROJ: Unrecognized horizontal grid format\n",
      "(filters.reprojection Error) GDAL failure (1) PROJ: hgridshift: could not find required grid(s).\n",
      "(filters.reprojection Error) GDAL failure (1) PROJ: pipeline: Pipeline: Bad step definition: inv (File not found or invalid)\n",
      "(filters.reprojection Error) GDAL failure (1) PROJ: Unrecognized horizontal grid format\n",
      "(filters.reprojection Error) GDAL failure (1) PROJ: hgridshift: could not find required grid(s).\n",
      "(filters.reprojection Error) GDAL failure (1) PROJ: pipeline: Pipeline: Bad step definition: inv (File not found or invalid)\n",
      "(filters.reprojection Error) GDAL failure (1) PROJ: Unrecognized horizontal grid format\n",
      "(filters.reprojection Error) GDAL failure (1) PROJ: hgridshift: could not find required grid(s).\n",
      "(filters.reprojection Error) GDAL failure (1) PROJ: pipeline: Pipeline: Bad step definition: inv (File not found or invalid)\n",
      "(filters.reprojection Error) GDAL failure (1) PROJ: Unrecognized horizontal grid format\n",
      "(filters.reprojection Error) GDAL failure (1) PROJ: hgridshift: could not find required grid(s).\n",
      "(filters.reprojection Error) GDAL failure (1) PROJ: pipeline: Pipeline: Bad step definition: inv (File not found or invalid)\n",
      "(filters.reprojection Error) GDAL failure (1) PROJ: Unrecognized horizontal grid format\n",
      "(filters.reprojection Error) GDAL failure (1) PROJ: hgridshift: could not find required grid(s).\n",
      "(filters.reprojection Error) GDAL failure (1) PROJ: pipeline: Pipeline: Bad step definition: inv (File not found or invalid)\n",
      "(filters.reprojection Error) GDAL failure (1) PROJ: Unrecognized horizontal grid format\n",
      "(filters.reprojection Error) GDAL failure (1) PROJ: hgridshift: could not find required grid(s).\n",
      "(filters.reprojection Error) GDAL failure (1) PROJ: pipeline: Pipeline: Bad step definition: inv (File not found or invalid)\n"
     ]
    }
   ],
   "source": [
    "import json, ast\n",
    "from os import stat\n",
    "import pdal\n",
    "\n",
    "\n",
    "def read_json(file_name):\n",
    "  '''\n",
    "  Read json file and return the string format\n",
    "  '''\n",
    "\n",
    "  try:\n",
    "    file_path = f\"../{file_name}\"\n",
    "    print(\"File Path : \", file_path)\n",
    "    with open(file_path, 'r') as json_file:\n",
    "      data = json.loads(json_file.read())\n",
    "    return data\n",
    "\n",
    "  except:\n",
    "    print('File Not found')\n",
    "    return None\n",
    "\n",
    "\n",
    "def prepare_pipe(bound, us_state='IA_FullState'):\n",
    "    data = read_json('pipeline.json')\n",
    "    data['pipeline'][0]['bounds'] = bound\n",
    "    data['pipeline'][0]['filename'] = \"https://s3-us-west-2.amazonaws.com/usgs-lidar-public/\"+us_state+\"/ept.json\"\n",
    "    \n",
    "    data['pipeline'][6]['filename'] = '../data/las/'+us_state+'.las'\n",
    "    data['pipeline'][7]['filename'] = '../data/tif/'+us_state+'.tif'\n",
    "    \n",
    "\n",
    "    print(\"data LInk : \" , data['pipeline'][0]['filename'])\n",
    "    return data\n",
    "\n",
    "\n",
    "def run_pipe(bound, us_state):\n",
    "    print(\"Run pipe ...\")\n",
    "    result = prepare_pipe(bound, us_state)\n",
    "    pipeline = pdal.Pipeline(json.dumps(result))\n",
    "    pipe_result  = pipeline.execute()\n",
    "    print(\"Fetching Completed!\")\n",
    "\n",
    "def test_json_reading():\n",
    "    data = read_json('pipeline.json')\n",
    "    print(data)\n",
    "    \n",
    "\n",
    "\n",
    "def test_prepare_pipe(bound):\n",
    "    result = prepare_pipe(bound)\n",
    "    print(result)\n",
    "\n",
    "## Initial Files\n",
    "bound = str(([-10425171.940, -10423171.940], [5164494.710, 5166494.710]))\n",
    "state = 'IA_FullState'\n",
    "\n",
    "\n",
    "## Test Things are working\n",
    "# test_json_reading()\n",
    "# test_prepare_pipe(bound)\n",
    "    \n",
    "\n",
    "run_pipe(bound, state)\n"
   ]
  },
  {
   "cell_type": "code",
   "execution_count": 54,
   "id": "ccdf9c93",
   "metadata": {},
   "outputs": [],
   "source": [
    "import pdal"
   ]
  },
  {
   "cell_type": "code",
   "execution_count": 32,
   "id": "1707d78d-aa79-40b6-a83c-206afd6eb27c",
   "metadata": {},
   "outputs": [],
   "source": [
    "import laspy"
   ]
  },
  {
   "cell_type": "code",
   "execution_count": 4,
   "id": "059f61ab-74b9-4e55-88a3-1d52460fa624",
   "metadata": {},
   "outputs": [],
   "source": [
    "import geopandas as gpd"
   ]
  },
  {
   "cell_type": "code",
   "execution_count": null,
   "id": "90e61591-c0f8-431c-96af-a2dad4d61af8",
   "metadata": {},
   "outputs": [],
   "source": [
    "## Read file with laspy the .laz file\n",
    "## Generate POINT with x, y\n",
    "## Elevation with Z\n",
    "## Geopandas Data frame, two columns -> Elevation : Z, Geometry: POINTS\n",
    "## Return the Dataframe"
   ]
  },
  {
   "cell_type": "code",
   "execution_count": 59,
   "id": "89e078fd-2eb7-4674-8716-a160e830c29b",
   "metadata": {},
   "outputs": [],
   "source": [
    "def read_laz(file_name):\n",
    "    try:\n",
    "        las = laspy.read(file_name)\n",
    "        return las\n",
    "    except FileNotFoundError:\n",
    "        print(\"Log: File Not found\")\n",
    "las_path = '../data/las/IA_FullState.las'    \n",
    "las_file = read_laz(las_path)"
   ]
  },
  {
   "cell_type": "code",
   "execution_count": 60,
   "id": "a128368f-089f-45ec-b026-3d68c3849c91",
   "metadata": {},
   "outputs": [],
   "source": [
    "from shapely.geometry import box, Point, Polygon"
   ]
  },
  {
   "cell_type": "code",
   "execution_count": 61,
   "id": "3ff643b0-f61c-4b47-ab26-042a128408d8",
   "metadata": {},
   "outputs": [],
   "source": [
    "## Computation Intensive\n",
    "def generate_points_elevation(las_file):\n",
    "    '''\n",
    "    Return Points (x, y) and elevation (z)\n",
    "    '''\n",
    "    points = [Point(x, y) for x,y in zip(las_file.x, las_file.y)]\n",
    "    elevation = np.array(las_file.z)\n",
    "    \n",
    "    return points, elevation\n",
    "\n",
    "\n",
    "    \n",
    "points, elevation = generate_points_elevation(las_file)"
   ]
  },
  {
   "cell_type": "code",
   "execution_count": 62,
   "id": "c93ca283-83f1-471d-bac6-a2c0556fd8f9",
   "metadata": {},
   "outputs": [
    {
     "data": {
      "text/plain": [
       "[<shapely.geometry.point.Point at 0x7f70cb3a2100>,\n",
       " <shapely.geometry.point.Point at 0x7f70cb3a7af0>,\n",
       " <shapely.geometry.point.Point at 0x7f711753c0d0>,\n",
       " <shapely.geometry.point.Point at 0x7f70cb3a2be0>,\n",
       " <shapely.geometry.point.Point at 0x7f70cb3a2310>,\n",
       " <shapely.geometry.point.Point at 0x7f70cb3a2370>,\n",
       " <shapely.geometry.point.Point at 0x7f70cb3ae8b0>,\n",
       " <shapely.geometry.point.Point at 0x7f70cb3ae160>,\n",
       " <shapely.geometry.point.Point at 0x7f70cb3aeee0>,\n",
       " <shapely.geometry.point.Point at 0x7f70cb3aed30>]"
      ]
     },
     "execution_count": 62,
     "metadata": {},
     "output_type": "execute_result"
    }
   ],
   "source": [
    "points[:10]"
   ]
  },
  {
   "cell_type": "code",
   "execution_count": 63,
   "id": "6cfa3a00-d5f4-4773-b383-ef6aa0977d4d",
   "metadata": {},
   "outputs": [
    {
     "data": {
      "text/plain": [
       "array([272.7 , 272.8 , 273.1 , 272.7 , 272.54, 272.34, 272.14, 272.71,\n",
       "       272.27, 272.22])"
      ]
     },
     "execution_count": 63,
     "metadata": {},
     "output_type": "execute_result"
    }
   ],
   "source": [
    "elevation[:10]"
   ]
  },
  {
   "cell_type": "code",
   "execution_count": 45,
   "id": "a758b248-2994-4cc1-8290-446c756a5b17",
   "metadata": {},
   "outputs": [],
   "source": [
    "import geopandas as gpd"
   ]
  },
  {
   "cell_type": "code",
   "execution_count": 47,
   "id": "c29b7a71-25c8-418b-bf5f-edfd0c1b85cd",
   "metadata": {},
   "outputs": [
    {
     "data": {
      "text/html": [
       "<div>\n",
       "<style scoped>\n",
       "    .dataframe tbody tr th:only-of-type {\n",
       "        vertical-align: middle;\n",
       "    }\n",
       "\n",
       "    .dataframe tbody tr th {\n",
       "        vertical-align: top;\n",
       "    }\n",
       "\n",
       "    .dataframe thead th {\n",
       "        text-align: right;\n",
       "    }\n",
       "</style>\n",
       "<table border=\"1\" class=\"dataframe\">\n",
       "  <thead>\n",
       "    <tr style=\"text-align: right;\">\n",
       "      <th></th>\n",
       "      <th>elevation</th>\n",
       "      <th>geometry</th>\n",
       "    </tr>\n",
       "  </thead>\n",
       "  <tbody>\n",
       "    <tr>\n",
       "      <th>0</th>\n",
       "      <td>275.72</td>\n",
       "      <td>POINT (447494.080 4653790.160)</td>\n",
       "    </tr>\n",
       "    <tr>\n",
       "      <th>1</th>\n",
       "      <td>275.75</td>\n",
       "      <td>POINT (447488.810 4653790.160)</td>\n",
       "    </tr>\n",
       "    <tr>\n",
       "      <th>2</th>\n",
       "      <td>274.39</td>\n",
       "      <td>POINT (447476.510 4653788.410)</td>\n",
       "    </tr>\n",
       "    <tr>\n",
       "      <th>3</th>\n",
       "      <td>275.89</td>\n",
       "      <td>POINT (447485.510 4653790.420)</td>\n",
       "    </tr>\n",
       "    <tr>\n",
       "      <th>4</th>\n",
       "      <td>276.10</td>\n",
       "      <td>POINT (447489.140 4653791.210)</td>\n",
       "    </tr>\n",
       "  </tbody>\n",
       "</table>\n",
       "</div>"
      ],
      "text/plain": [
       "   elevation                        geometry\n",
       "0     275.72  POINT (447494.080 4653790.160)\n",
       "1     275.75  POINT (447488.810 4653790.160)\n",
       "2     274.39  POINT (447476.510 4653788.410)\n",
       "3     275.89  POINT (447485.510 4653790.420)\n",
       "4     276.10  POINT (447489.140 4653791.210)"
      ]
     },
     "execution_count": 47,
     "metadata": {},
     "output_type": "execute_result"
    }
   ],
   "source": [
    "def create_geopandasdf(geometry_points, elevation):\n",
    "    '''\n",
    "    Return Geopandas data frame from elevation and geometic points\n",
    "    '''\n",
    "    geo_df = gpd.GeoDataFrame({\"elevation\": elevation, \"geometry\":geometry_points})\n",
    "    geo_df.set_geometry('geometry')\n",
    "    geo_df.set_crs(epsg=26915, inplace=True)\n",
    "\n",
    "    return geo_df\n",
    "\n",
    "df = create_geopandasdf(points, elevation)\n",
    "df.head()\n"
   ]
  },
  {
   "cell_type": "code",
   "execution_count": 125,
   "id": "866bd45d-2084-4cbe-89fd-9d27fd235677",
   "metadata": {},
   "outputs": [],
   "source": [
    "# Run the run_pipe() first, then create_geopandasdf()\n",
    "\n",
    "import pdal\n",
    "import json\n",
    "import laspy\n",
    "import geopandas as gpd\n",
    "import numpy as np\n",
    "from shapely.geometry import box, Point, Polygon\n",
    "\n",
    "class FetchAndLoad():\n",
    "    '''\n",
    "    params : \n",
    "        bound : boundry of the state\n",
    "        state : state to do the elevation\n",
    "    \n",
    "    instruction:\n",
    "        Make sure to run them sequentially.\n",
    "        run_pipe() : will generate the neccessary files\n",
    "        create_geopandasdf() : generate data frame from the files\n",
    "        get_geopandas_df() : will provide the data frame\n",
    "        \n",
    "    '''\n",
    "    def __init__(self, polygon:Polygon, epsg:int=4326, state='IA_FullState'):\n",
    "        self.polygon = polygon\n",
    "\n",
    "        self.state = state\n",
    "        self.epsg = epsg\n",
    "        self.bounds = None\n",
    "        self.crs_polygon = None\n",
    "        \n",
    "        self.pipe_path = '../pipeline.json'\n",
    "        self.las_path = '../data/las/'+self.state+'.las'\n",
    "        self.tif_path = '../data/tif/'+self.state+'.tif'\n",
    "        self.api_path = \"https://s3-us-west-2.amazonaws.com/usgs-lidar-public/\"+self.state+\"/ept.json\"\n",
    "        \n",
    "        self.pipeline = None\n",
    "        \n",
    "        self.las_file = None\n",
    "        self.points = None\n",
    "        self.elevation = None\n",
    "        self.geo_df = None\n",
    "        \n",
    "        \n",
    "    def read_json(self):\n",
    "      '''\n",
    "      Read json file and return the string format\n",
    "      '''\n",
    "\n",
    "      try:\n",
    "        file_path = self.pipe_path\n",
    "        print(\"File Path : \", file_path)\n",
    "        with open(file_path, 'r') as json_file:\n",
    "          data = json.loads(json_file.read())\n",
    "        return data\n",
    "\n",
    "      except:\n",
    "        print('File Not found')\n",
    "        return None\n",
    "    \n",
    "    def get_bounds_and_ploygon(self):\n",
    "        '''\n",
    "        set bounderies and polygons after converting user CRS - coordinate system\n",
    "        to the coordinate system we use ( 3857 ).\n",
    "        '''\n",
    "        polygon_df = gpd.GeoDataFrame([self.polygon], columns=['geometry'])\n",
    "        \n",
    "        polygon_df.set_crs(epsg=self.epsg, inplace=True)\n",
    "        polygon_df['geometry'] = polygon_df['geometry'].to_crs(\n",
    "            epsg=3857)\n",
    "        minx, miny, maxx, maxy = polygon_df['geometry'][0].bounds\n",
    "        \n",
    "        polygon_input = 'POLYGON(('\n",
    "\n",
    "        xcord, ycord = polygon_df['geometry'][0].exterior.coords.xy\n",
    "        for x, y in zip(list(xcord), list(ycord)):\n",
    "            polygon_input += f'{x} {y}, '\n",
    "        polygon_input = polygon_input[:-2]\n",
    "        polygon_input += '))'\n",
    "        \n",
    "        \n",
    "        self.bounds = f\"({[minx, maxx]},{[miny,maxy]})\"\n",
    "        self.crs_polygon = polygon_input\n",
    "        \n",
    "        \n",
    "    def prepare_pipe(self):\n",
    "        '''\n",
    "        Populate The pipe line with boundary, and return pipeline\n",
    "        '''\n",
    "        self.get_bounds_and_ploygon()\n",
    "        data = self.read_json()\n",
    "        data['pipeline'][0]['bounds'] = self.bounds\n",
    "        data['pipeline'][0]['filename'] = self.api_path\n",
    "        \n",
    "        data['pipeline'][1]['polygon'] = self.crs_polygon\n",
    "        \n",
    "        data['pipeline'][4]['out_srs'] = f'EPSG:{self.epsg}'\n",
    "\n",
    "        data['pipeline'][7]['filename'] = self.las_path\n",
    "        data['pipeline'][8]['filename'] = self.tif_path\n",
    "\n",
    "\n",
    "        print(\"data LInk : \" , data['pipeline'][0]['filename'])\n",
    "        self.pipeline = data\n",
    "        \n",
    "    \n",
    "    def run_pipe(self):\n",
    "        '''\n",
    "        Generate .las and .tif file from the pipeline\n",
    "        '''\n",
    "        print(\"Run pipe ...\")\n",
    "        result = self.prepare_pipe()\n",
    "        pdal_pipe = pdal.Pipeline(json.dumps(self.pipeline))\n",
    "        pdal_result = pdal_pipe.execute()\n",
    "        print(\"Fetching Completed!\")\n",
    "        \n",
    "        \n",
    "    def read_laz(self):\n",
    "        '''\n",
    "        Read Generated Las file\n",
    "        Return laspy read las file\n",
    "        '''\n",
    "        try:\n",
    "            print(\"Reading Las File from :\", self.las_path)\n",
    "            las = laspy.read(self.las_path)\n",
    "            self.las_file = las\n",
    "            return las\n",
    "        \n",
    "        except FileNotFoundError:\n",
    "            print(\"Log: File Not found\")\n",
    "            print(\"Please use the function run_pipe before this funciton\")\n",
    "            \n",
    "    \n",
    "    def generate_points_elevation(self):\n",
    "        '''\n",
    "        Return Points (x, y) and elevation (z)\n",
    "        '''\n",
    "        print(\"Generating Points from las File ...\")\n",
    "        points = [Point(x, y) for x,y in zip(self.las_file.x, self.las_file.y)]\n",
    "        elevation = np.array(las_file.z)\n",
    "        \n",
    "        self.points, self.elevation = points, elevation\n",
    "        print(\"Finished Generating Points!\")\n",
    "        \n",
    "        return points, elevation\n",
    "    \n",
    "    \n",
    "    def create_geopandasdf(self):\n",
    "        '''\n",
    "        Return Geopandas data frame from elevation and geometic points\n",
    "        '''\n",
    "        self.read_laz()\n",
    "        self.generate_points_elevation()\n",
    "        \n",
    "        print(\"Making Geopandas Data Frame...\")\n",
    "        geopanda_df = gpd.GeoDataFrame({\"elevation\": self.elevation, \"geometry\":self.points})\n",
    "        geopanda_df.set_geometry('geometry')\n",
    "        geopanda_df.set_crs(epsg=26915, inplace=True)\n",
    "        \n",
    "        self.geo_df = geopanda_df\n",
    "        print(\"Finished Making Geopandas Data Frame!\")\n",
    "        return geopanda_df\n",
    "    \n",
    "    \n",
    "    def get_geopandas_df(self):\n",
    "        return self.geo_df\n",
    "        \n",
    "    "
   ]
  },
  {
   "cell_type": "code",
   "execution_count": 128,
   "id": "68253865-0d6e-4428-ab2b-9a5cab5edf13",
   "metadata": {},
   "outputs": [
    {
     "name": "stdout",
     "output_type": "stream",
     "text": [
      "Run pipe ...\n",
      "File Path :  ../pipeline.json\n",
      "data LInk :  https://s3-us-west-2.amazonaws.com/usgs-lidar-public/IA_FullState/ept.json\n",
      "Fetching Completed!\n"
     ]
    }
   ],
   "source": [
    "## Initial Files\n",
    "bound = str(([-10425171.940, -10423171.940], [5164494.710, 5166494.710]))\n",
    "state = 'IA_FullState'\n",
    "\n",
    "# fetcher = Lidar_Data_Fetch(PUBLIC_DATA_URL, epsg=epsg)\n",
    "MINX, MINY, MAXX, MAXY = [-93.756155, 41.918015, -93.747334, 41.921429]\n",
    "\n",
    "polygon = Polygon(((MINX, MINY), (MINX, MAXY),\n",
    "                   (MAXX, MAXY), (MAXX, MINY), (MINX, MINY)))\n",
    "\n",
    "\n",
    "\n",
    "check = FetchAndLoad(polygon)\n",
    "check.run_pipe()\n",
    "\n",
    "# check.create_geopandasdf()\n",
    "# new_result =  check.get_geopandas_df()\n"
   ]
  },
  {
   "cell_type": "code",
   "execution_count": 117,
   "id": "65c12357-c2c5-4592-92a0-883f6bc28bd4",
   "metadata": {},
   "outputs": [
    {
     "name": "stdout",
     "output_type": "stream",
     "text": [
      "(-10436887.43333523, 5148706.389047224, -10435905.484106943, 5149217.145836504)\n"
     ]
    }
   ],
   "source": [
    "## Generate bounderies\n",
    "polygon.bounds\n",
    "\n",
    "### Cordinate system change of the polygon\n",
    "\n",
    "## Extract bounday\n",
    "\n",
    "bounds = f'({list(polygon.bounds)})'\n",
    "bound = str(([-10425171.940, -10423171.940], [5164494.710, 5166494.710]))\n",
    "\n",
    "\n",
    "## fill in bounday and polygon to pipeline\n",
    "## [4 ] out_srs -> from the user ##\n",
    "\n",
    "# print(bounds)\n",
    "# print(bound)\n",
    "\n",
    "polygon_df = gpd.GeoDataFrame([polygon], columns=['geometry'])\n",
    "polygon_df.set_crs(epsg=4326, inplace=True)\n",
    "\n",
    "polygon_df['geometry'] = polygon_df['geometry'].to_crs(\n",
    "            epsg=3857)\n",
    "\n",
    "\n"
   ]
  },
  {
   "cell_type": "code",
   "execution_count": 104,
   "id": "96ba2128-edf0-4005-9803-0137b505a366",
   "metadata": {},
   "outputs": [
    {
     "data": {
      "text/html": [
       "<div>\n",
       "<style scoped>\n",
       "    .dataframe tbody tr th:only-of-type {\n",
       "        vertical-align: middle;\n",
       "    }\n",
       "\n",
       "    .dataframe tbody tr th {\n",
       "        vertical-align: top;\n",
       "    }\n",
       "\n",
       "    .dataframe thead th {\n",
       "        text-align: right;\n",
       "    }\n",
       "</style>\n",
       "<table border=\"1\" class=\"dataframe\">\n",
       "  <thead>\n",
       "    <tr style=\"text-align: right;\">\n",
       "      <th></th>\n",
       "      <th>elevation</th>\n",
       "      <th>geometry</th>\n",
       "    </tr>\n",
       "  </thead>\n",
       "  <tbody>\n",
       "    <tr>\n",
       "      <th>0</th>\n",
       "      <td>272.70</td>\n",
       "      <td>POINT (447498.880 4654050.850)</td>\n",
       "    </tr>\n",
       "    <tr>\n",
       "      <th>1</th>\n",
       "      <td>272.80</td>\n",
       "      <td>POINT (447497.060 4654050.480)</td>\n",
       "    </tr>\n",
       "    <tr>\n",
       "      <th>2</th>\n",
       "      <td>273.10</td>\n",
       "      <td>POINT (447490.720 4654050.270)</td>\n",
       "    </tr>\n",
       "    <tr>\n",
       "      <th>3</th>\n",
       "      <td>272.70</td>\n",
       "      <td>POINT (447492.530 4654050.640)</td>\n",
       "    </tr>\n",
       "    <tr>\n",
       "      <th>4</th>\n",
       "      <td>272.54</td>\n",
       "      <td>POINT (447498.840 4654052.880)</td>\n",
       "    </tr>\n",
       "  </tbody>\n",
       "</table>\n",
       "</div>"
      ],
      "text/plain": [
       "   elevation                        geometry\n",
       "0     272.70  POINT (447498.880 4654050.850)\n",
       "1     272.80  POINT (447497.060 4654050.480)\n",
       "2     273.10  POINT (447490.720 4654050.270)\n",
       "3     272.70  POINT (447492.530 4654050.640)\n",
       "4     272.54  POINT (447498.840 4654052.880)"
      ]
     },
     "execution_count": 104,
     "metadata": {},
     "output_type": "execute_result"
    }
   ],
   "source": [
    "new_result.head()"
   ]
  },
  {
   "cell_type": "code",
   "execution_count": 96,
   "id": "ce2728d9-ee89-46fe-91b2-c8e0ed525258",
   "metadata": {},
   "outputs": [],
   "source": [
    "from shapely.geometry import box, Point, Polygon"
   ]
  },
  {
   "cell_type": "code",
   "execution_count": 100,
   "id": "63bc9e39-d97b-4bcf-9456-52b3f1ab5ce6",
   "metadata": {},
   "outputs": [],
   "source": []
  },
  {
   "cell_type": "code",
   "execution_count": 98,
   "id": "b126ec75-f0f0-4ed7-be0a-c6cc1c28f797",
   "metadata": {},
   "outputs": [],
   "source": [
    "x, y = polygon.exterior.coords.xy\n",
    "\n",
    "name = \"\"\n",
    "for i, j in zip(list(x), list(y)):\n",
    "    name += f\"{i}_{j}\""
   ]
  },
  {
   "cell_type": "code",
   "execution_count": 99,
   "id": "3cb1791a-0249-4691-8971-c5c27947a9d4",
   "metadata": {},
   "outputs": [
    {
     "data": {
      "text/plain": [
       "'-93.756155_41.918015-93.756155_41.921429-93.747334_41.921429-93.747334_41.918015-93.756155_41.918015'"
      ]
     },
     "execution_count": 99,
     "metadata": {},
     "output_type": "execute_result"
    }
   ],
   "source": [
    "name"
   ]
  },
  {
   "cell_type": "code",
   "execution_count": 102,
   "id": "a02f4a35-edde-4771-b385-19e25c2aab21",
   "metadata": {},
   "outputs": [
    {
     "name": "stdout",
     "output_type": "stream",
     "text": [
      "(-93.756155, 41.918015)\n",
      "(-93.756155, 41.921429)\n",
      "(-93.747334, 41.921429)\n",
      "(-93.747334, 41.918015)\n",
      "(-93.756155, 41.918015)\n",
      "POLYGON((-93.756155 41.918015,-93.756155 41.921429,-93.747334 41.921429,-93.747334 41.918015,-93.756155 41.918015))\n"
     ]
    }
   ],
   "source": [
    "def get_cropped_polygon(polygon):\n",
    "    polygon_cords = 'POLYGON(('\n",
    "    for i in list(polygon.exterior.coords):\n",
    "        print(i)\n",
    "        polygon_cords += f'{i[0]} {i[1]},'\n",
    "\n",
    "    polygon_cords = polygon_cords[:-1] + '))'\n",
    "    \n",
    "    return polygon_cords\n",
    "\n",
    "check = get_cropped_polygon(polygon)\n",
    "print(check)"
   ]
  }
 ],
 "metadata": {
  "kernelspec": {
   "display_name": "Python [conda env:root] *",
   "language": "python",
   "name": "conda-root-py"
  },
  "language_info": {
   "codemirror_mode": {
    "name": "ipython",
    "version": 3
   },
   "file_extension": ".py",
   "mimetype": "text/x-python",
   "name": "python",
   "nbconvert_exporter": "python",
   "pygments_lexer": "ipython3",
   "version": "3.9.6"
  }
 },
 "nbformat": 4,
 "nbformat_minor": 5
}

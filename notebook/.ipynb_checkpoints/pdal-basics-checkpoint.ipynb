{
 "cells": [
  {
   "cell_type": "code",
   "execution_count": 11,
   "id": "e5505bf7",
   "metadata": {},
   "outputs": [],
   "source": [
    "import warnings\n",
    "warnings.filterwarnings('ignore')\n",
    "# import geoplot as gplt\n",
    "\n",
    "# import geopandas as gpd\n",
    "# import geoplot.crs as gcrs\n",
    "import imageio\n",
    "import pandas as pd\n",
    "import pathlib\n",
    "import matplotlib.pyplot as plt\n",
    "import mapclassify as mc\n",
    "import numpy as np\n",
    "import laspy\n",
    "import rasterio\n",
    "from rasterio import mask\n",
    "import folium"
   ]
  },
  {
   "cell_type": "code",
   "execution_count": 14,
   "id": "35b04c09",
   "metadata": {},
   "outputs": [],
   "source": [
    "# !pip install geopandas"
   ]
  },
  {
   "cell_type": "code",
   "execution_count": 13,
   "id": "fdf443e3",
   "metadata": {},
   "outputs": [],
   "source": [
    "# import geopandas"
   ]
  },
  {
   "cell_type": "code",
   "execution_count": 1,
   "id": "337361b6-46a0-4ba1-bde2-44dad382ed5b",
   "metadata": {},
   "outputs": [
    {
     "name": "stdout",
     "output_type": "stream",
     "text": [
      "Run pipe\n",
      "File Path :  ../pipeline.json\n",
      "data LInk :  https://s3-us-west-2.amazonaws.com/usgs-lidar-public/IA_FullState/ept.json\n"
     ]
    },
    {
     "name": "stderr",
     "output_type": "stream",
     "text": [
      "(filters.reprojection Error) GDAL failure (1) PROJ: Unrecognized horizontal grid format\n",
      "(filters.reprojection Error) GDAL failure (1) PROJ: hgridshift: could not find required grid(s).\n",
      "(filters.reprojection Error) GDAL failure (1) PROJ: pipeline: Pipeline: Bad step definition: inv (File not found or invalid)\n",
      "(filters.reprojection Error) GDAL failure (1) PROJ: Unrecognized horizontal grid format\n",
      "(filters.reprojection Error) GDAL failure (1) PROJ: hgridshift: could not find required grid(s).\n",
      "(filters.reprojection Error) GDAL failure (1) PROJ: pipeline: Pipeline: Bad step definition: inv (File not found or invalid)\n",
      "(filters.reprojection Error) GDAL failure (1) PROJ: Unrecognized horizontal grid format\n",
      "(filters.reprojection Error) GDAL failure (1) PROJ: hgridshift: could not find required grid(s).\n",
      "(filters.reprojection Error) GDAL failure (1) PROJ: pipeline: Pipeline: Bad step definition: inv (File not found or invalid)\n",
      "(filters.reprojection Error) GDAL failure (1) PROJ: Unrecognized horizontal grid format\n",
      "(filters.reprojection Error) GDAL failure (1) PROJ: hgridshift: could not find required grid(s).\n",
      "(filters.reprojection Error) GDAL failure (1) PROJ: pipeline: Pipeline: Bad step definition: inv (File not found or invalid)\n",
      "(filters.reprojection Error) GDAL failure (1) PROJ: Unrecognized horizontal grid format\n",
      "(filters.reprojection Error) GDAL failure (1) PROJ: hgridshift: could not find required grid(s).\n",
      "(filters.reprojection Error) GDAL failure (1) PROJ: pipeline: Pipeline: Bad step definition: inv (File not found or invalid)\n",
      "(filters.reprojection Error) GDAL failure (1) PROJ: Unrecognized horizontal grid format\n",
      "(filters.reprojection Error) GDAL failure (1) PROJ: hgridshift: could not find required grid(s).\n",
      "(filters.reprojection Error) GDAL failure (1) PROJ: pipeline: Pipeline: Bad step definition: inv (File not found or invalid)\n",
      "(filters.reprojection Error) GDAL failure (1) PROJ: Unrecognized horizontal grid format\n",
      "(filters.reprojection Error) GDAL failure (1) PROJ: hgridshift: could not find required grid(s).\n",
      "(filters.reprojection Error) GDAL failure (1) PROJ: pipeline: Pipeline: Bad step definition: inv (File not found or invalid)\n",
      "(filters.reprojection Error) GDAL failure (1) PROJ: Unrecognized horizontal grid format\n",
      "(filters.reprojection Error) GDAL failure (1) PROJ: hgridshift: could not find required grid(s).\n",
      "(filters.reprojection Error) GDAL failure (1) PROJ: pipeline: Pipeline: Bad step definition: inv (File not found or invalid)\n",
      "(filters.reprojection Error) GDAL failure (1) PROJ: Unrecognized horizontal grid format\n",
      "(filters.reprojection Error) GDAL failure (1) PROJ: hgridshift: could not find required grid(s).\n",
      "(filters.reprojection Error) GDAL failure (1) PROJ: pipeline: Pipeline: Bad step definition: inv (File not found or invalid)\n",
      "(filters.reprojection Error) GDAL failure (1) PROJ: Unrecognized horizontal grid format\n",
      "(filters.reprojection Error) GDAL failure (1) PROJ: hgridshift: could not find required grid(s).\n",
      "(filters.reprojection Error) GDAL failure (1) PROJ: pipeline: Pipeline: Bad step definition: inv (File not found or invalid)\n",
      "(filters.reprojection Error) GDAL failure (1) PROJ: Unrecognized horizontal grid format\n",
      "(filters.reprojection Error) GDAL failure (1) PROJ: hgridshift: could not find required grid(s).\n",
      "(filters.reprojection Error) GDAL failure (1) PROJ: pipeline: Pipeline: Bad step definition: inv (File not found or invalid)\n",
      "(filters.reprojection Error) GDAL failure (1) PROJ: Unrecognized horizontal grid format\n",
      "(filters.reprojection Error) GDAL failure (1) PROJ: hgridshift: could not find required grid(s).\n",
      "(filters.reprojection Error) GDAL failure (1) PROJ: pipeline: Pipeline: Bad step definition: inv (File not found or invalid)\n",
      "(filters.reprojection Error) GDAL failure (1) PROJ: Unrecognized horizontal grid format\n",
      "(filters.reprojection Error) GDAL failure (1) PROJ: hgridshift: could not find required grid(s).\n",
      "(filters.reprojection Error) GDAL failure (1) PROJ: pipeline: Pipeline: Bad step definition: inv (File not found or invalid)\n",
      "(filters.reprojection Error) GDAL failure (1) PROJ: Unrecognized horizontal grid format\n",
      "(filters.reprojection Error) GDAL failure (1) PROJ: hgridshift: could not find required grid(s).\n",
      "(filters.reprojection Error) GDAL failure (1) PROJ: pipeline: Pipeline: Bad step definition: inv (File not found or invalid)\n"
     ]
    },
    {
     "ename": "RuntimeError",
     "evalue": "writers.las: Couldn't open file 'data/laz/IA_FullState.laz' for output.",
     "output_type": "error",
     "traceback": [
      "\u001b[0;31m---------------------------------------------------------------------------\u001b[0m",
      "\u001b[0;31mRuntimeError\u001b[0m                              Traceback (most recent call last)",
      "\u001b[0;32m/tmp/ipykernel_12811/2760281547.py\u001b[0m in \u001b[0;36m<module>\u001b[0;34m\u001b[0m\n\u001b[1;32m     44\u001b[0m \u001b[0;31m# print(result)\u001b[0m\u001b[0;34m\u001b[0m\u001b[0;34m\u001b[0m\u001b[0;34m\u001b[0m\u001b[0m\n\u001b[1;32m     45\u001b[0m \u001b[0;34m\u001b[0m\u001b[0m\n\u001b[0;32m---> 46\u001b[0;31m \u001b[0mrun_pipe\u001b[0m\u001b[0;34m(\u001b[0m\u001b[0mbound\u001b[0m\u001b[0;34m,\u001b[0m \u001b[0mstate\u001b[0m\u001b[0;34m)\u001b[0m\u001b[0;34m\u001b[0m\u001b[0;34m\u001b[0m\u001b[0m\n\u001b[0m\u001b[1;32m     47\u001b[0m \u001b[0;34m\u001b[0m\u001b[0m\n\u001b[1;32m     48\u001b[0m \u001b[0;34m\u001b[0m\u001b[0m\n",
      "\u001b[0;32m/tmp/ipykernel_12811/2760281547.py\u001b[0m in \u001b[0;36mrun_pipe\u001b[0;34m(bound, us_state)\u001b[0m\n\u001b[1;32m     33\u001b[0m   \u001b[0mresult\u001b[0m \u001b[0;34m=\u001b[0m \u001b[0mprepare_pipe\u001b[0m\u001b[0;34m(\u001b[0m\u001b[0mbound\u001b[0m\u001b[0;34m,\u001b[0m \u001b[0mus_state\u001b[0m\u001b[0;34m)\u001b[0m\u001b[0;34m\u001b[0m\u001b[0;34m\u001b[0m\u001b[0m\n\u001b[1;32m     34\u001b[0m   \u001b[0mpipeline\u001b[0m \u001b[0;34m=\u001b[0m \u001b[0mpdal\u001b[0m\u001b[0;34m.\u001b[0m\u001b[0mPipeline\u001b[0m\u001b[0;34m(\u001b[0m\u001b[0mjson\u001b[0m\u001b[0;34m.\u001b[0m\u001b[0mdumps\u001b[0m\u001b[0;34m(\u001b[0m\u001b[0mresult\u001b[0m\u001b[0;34m)\u001b[0m\u001b[0;34m)\u001b[0m\u001b[0;34m\u001b[0m\u001b[0;34m\u001b[0m\u001b[0m\n\u001b[0;32m---> 35\u001b[0;31m   \u001b[0mpipe_result\u001b[0m  \u001b[0;34m=\u001b[0m \u001b[0mpipeline\u001b[0m\u001b[0;34m.\u001b[0m\u001b[0mexecute\u001b[0m\u001b[0;34m(\u001b[0m\u001b[0;34m)\u001b[0m\u001b[0;34m\u001b[0m\u001b[0;34m\u001b[0m\u001b[0m\n\u001b[0m\u001b[1;32m     36\u001b[0m   \u001b[0mprint\u001b[0m\u001b[0;34m(\u001b[0m\u001b[0mpipe_result\u001b[0m\u001b[0;34m)\u001b[0m\u001b[0;34m\u001b[0m\u001b[0;34m\u001b[0m\u001b[0m\n\u001b[1;32m     37\u001b[0m \u001b[0;34m\u001b[0m\u001b[0m\n",
      "\u001b[0;32m/opt/miniconda/lib/python3.9/site-packages/pdal/pipeline.py\u001b[0m in \u001b[0;36mexecute\u001b[0;34m(self)\u001b[0m\n\u001b[1;32m     38\u001b[0m \u001b[0;34m\u001b[0m\u001b[0m\n\u001b[1;32m     39\u001b[0m     \u001b[0;32mdef\u001b[0m \u001b[0mexecute\u001b[0m\u001b[0;34m(\u001b[0m\u001b[0mself\u001b[0m\u001b[0;34m)\u001b[0m\u001b[0;34m:\u001b[0m\u001b[0;34m\u001b[0m\u001b[0;34m\u001b[0m\u001b[0m\n\u001b[0;32m---> 40\u001b[0;31m         \u001b[0;32mreturn\u001b[0m \u001b[0mself\u001b[0m\u001b[0;34m.\u001b[0m\u001b[0mp\u001b[0m\u001b[0;34m.\u001b[0m\u001b[0mexecute\u001b[0m\u001b[0;34m(\u001b[0m\u001b[0;34m)\u001b[0m\u001b[0;34m\u001b[0m\u001b[0;34m\u001b[0m\u001b[0m\n\u001b[0m\u001b[1;32m     41\u001b[0m \u001b[0;34m\u001b[0m\u001b[0m\n\u001b[1;32m     42\u001b[0m     \u001b[0;32mdef\u001b[0m \u001b[0mvalidate\u001b[0m\u001b[0;34m(\u001b[0m\u001b[0mself\u001b[0m\u001b[0;34m)\u001b[0m\u001b[0;34m:\u001b[0m\u001b[0;34m\u001b[0m\u001b[0;34m\u001b[0m\u001b[0m\n",
      "\u001b[0;32mlibpdalpython.pyx\u001b[0m in \u001b[0;36mpdal.libpdalpython.PyPipeline.execute\u001b[0;34m()\u001b[0m\n",
      "\u001b[0;31mRuntimeError\u001b[0m: writers.las: Couldn't open file 'data/laz/IA_FullState.laz' for output."
     ]
    }
   ],
   "source": [
    "import json, ast\n",
    "from os import stat\n",
    "import pdal\n",
    "\n",
    "def read_json(file_name):\n",
    "  '''\n",
    "  Read json file and return the string format\n",
    "  '''\n",
    "\n",
    "  try:\n",
    "    file_path = \"../pipeline.json\"\n",
    "    print(\"File Path : \", file_path)\n",
    "    with open(file_path, 'r') as json_file:\n",
    "      data = json.loads(json_file.read())\n",
    "    return data\n",
    "\n",
    "  except:\n",
    "    print('File Not found')\n",
    "    return None\n",
    "\n",
    "def prepare_pipe(bound, us_state='IA_FullState'):\n",
    "  data = read_json('pipeline.json')\n",
    "  data['pipeline'][0]['bounds'] = bound\n",
    "  data['pipeline'][0]['filename'] = \"https://s3-us-west-2.amazonaws.com/usgs-lidar-public/\"+us_state+\"/ept.json\"\n",
    "  data['pipeline'][6]['filename'] = 'iowa.laz'\n",
    "  data['pipeline'][7]['filename'] = 'iowa.tiff'\n",
    "\n",
    "  print(\"data LInk : \" , data['pipeline'][0]['filename'])\n",
    "  return data\n",
    "\n",
    "def run_pipe(bound, us_state):\n",
    "  print(\"Run pipe\")\n",
    "  result = prepare_pipe(bound, us_state)\n",
    "  pipeline = pdal.Pipeline(json.dumps(result))\n",
    "  pipe_result  = pipeline.execute()\n",
    "  print(pipe_result)\n",
    "\n",
    "bound = str(([-10425171.940, -10423171.940], [5164494.710, 5166494.710]))\n",
    "state = 'IA_FullState'\n",
    "\n",
    "# data = read_json('pipeline.json')\n",
    "# print(data)\n",
    "# result = prepare_pipe(bound)\n",
    "# print(result)\n",
    "\n",
    "run_pipe(bound, state)\n",
    "\n",
    "\n",
    "# open_file = open('../pipeline.json', 'r')\n",
    "# print(open_file.read())\n",
    "\n"
   ]
  },
  {
   "cell_type": "code",
   "execution_count": 2,
   "id": "ccdf9c93",
   "metadata": {},
   "outputs": [],
   "source": [
    "import pdal"
   ]
  },
  {
   "cell_type": "code",
   "execution_count": null,
   "id": "1707d78d-aa79-40b6-a83c-206afd6eb27c",
   "metadata": {},
   "outputs": [],
   "source": []
  }
 ],
 "metadata": {
  "kernelspec": {
   "display_name": "Python 3 (ipykernel)",
   "language": "python",
   "name": "python3"
  },
  "language_info": {
   "codemirror_mode": {
    "name": "ipython",
    "version": 3
   },
   "file_extension": ".py",
   "mimetype": "text/x-python",
   "name": "python",
   "nbconvert_exporter": "python",
   "pygments_lexer": "ipython3",
   "version": "3.9.6"
  }
 },
 "nbformat": 4,
 "nbformat_minor": 5
}

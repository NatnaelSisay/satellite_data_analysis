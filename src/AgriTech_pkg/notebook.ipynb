{
 "cells": [
  {
   "cell_type": "code",
   "execution_count": 29,
   "id": "dc30d724-267f-4e76-992e-d249831d8b02",
   "metadata": {},
   "outputs": [],
   "source": [
    "import pandas as pd\n",
    "import pdal\n",
    "import json\n",
    "import laspy\n",
    "import geopandas as gpd\n",
    "import numpy as np\n",
    "from shapely.geometry import box, Point, Polygon"
   ]
  },
  {
   "cell_type": "code",
   "execution_count": 9,
   "id": "45eda706-49fe-45d2-9c74-7aadc2a3744d",
   "metadata": {},
   "outputs": [],
   "source": [
    "class FetchAndLoad():\n",
    "    '''\n",
    "    params : \n",
    "        polygon : polygon of area we need to crop\n",
    "        state : state to do the elevation\n",
    "    \n",
    "    instruction:\n",
    "        Make sure to run them sequentially.\n",
    "        run_pipe() : will generate the neccessary files\n",
    "        create_geopandasdf() : generate data frame from the files\n",
    "        get_geopandas_df() : will provide the data frame\n",
    "        \n",
    "    '''\n",
    "    def __init__(self, polygon:Polygon, epsg:int=4326, state='IA_FullState'):\n",
    "        self.polygon = polygon\n",
    "\n",
    "        self.state = state\n",
    "        self.epsg = epsg\n",
    "        self.bounds = None\n",
    "        self.crs_polygon = None\n",
    "        \n",
    "        self.pipe_path = './pipeline.json'\n",
    "        self.las_path = self.state+'.las'\n",
    "        self.tif_path = self.state+'.tif'\n",
    "        self.api_path = \"https://s3-us-west-2.amazonaws.com/usgs-lidar-public/\"+self.state+\"/ept.json\"\n",
    "        \n",
    "        self.pipeline = None\n",
    "        \n",
    "        self.las_file = None\n",
    "        self.points = None\n",
    "        self.elevation = None\n",
    "        self.geo_df = None\n",
    "        \n",
    "        \n",
    "    def read_json(self):\n",
    "      '''\n",
    "      Read json file and return the string format\n",
    "      '''\n",
    "\n",
    "      try:\n",
    "        file_path = self.pipe_path\n",
    "        print(\"File Path : \", file_path)\n",
    "        with open(file_path, 'r') as json_file:\n",
    "          data = json.loads(json_file.read())\n",
    "        return data\n",
    "\n",
    "      except:\n",
    "        print('File Not found')\n",
    "        return None\n",
    "    \n",
    "    def get_bounds_and_ploygon(self):\n",
    "        '''\n",
    "        set bounderies and polygons after converting user CRS - coordinate system\n",
    "        to the coordinate system we use ( 3857 ).\n",
    "        '''\n",
    "        polygon_df = gpd.GeoDataFrame([self.polygon], columns=['geometry'])\n",
    "        \n",
    "        polygon_df.set_crs(epsg=self.epsg, inplace=True)\n",
    "        polygon_df['geometry'] = polygon_df['geometry'].to_crs(\n",
    "            epsg=3857)\n",
    "        minx, miny, maxx, maxy = polygon_df['geometry'][0].bounds\n",
    "        \n",
    "        polygon_input = 'POLYGON(('\n",
    "\n",
    "        xcord, ycord = polygon_df['geometry'][0].exterior.coords.xy\n",
    "        for x, y in zip(list(xcord), list(ycord)):\n",
    "            polygon_input += f'{x} {y}, '\n",
    "        polygon_input = polygon_input[:-2]\n",
    "        polygon_input += '))'\n",
    "        \n",
    "        \n",
    "        self.bounds = f\"({[minx, maxx]},{[miny,maxy]})\"\n",
    "        self.crs_polygon = polygon_input\n",
    "        \n",
    "        \n",
    "    def prepare_pipe(self):\n",
    "        '''\n",
    "        Populate The pipe line with boundary, and return pipeline\n",
    "        '''\n",
    "        self.get_bounds_and_ploygon()\n",
    "        data = self.read_json()\n",
    "        data['pipeline'][0]['bounds'] = self.bounds\n",
    "        data['pipeline'][0]['filename'] = self.api_path\n",
    "        \n",
    "        data['pipeline'][1]['polygon'] = self.crs_polygon\n",
    "        \n",
    "        data['pipeline'][4]['out_srs'] = f'EPSG:{self.epsg}'\n",
    "\n",
    "        data['pipeline'][7]['filename'] = self.las_path\n",
    "        data['pipeline'][8]['filename'] = self.tif_path\n",
    "\n",
    "\n",
    "        print(\"data LInk : \" , data['pipeline'][0]['filename'])\n",
    "        self.pipeline = data\n",
    "        \n",
    "    \n",
    "    def run_pipe(self):\n",
    "        '''\n",
    "        Generate .las and .tif file from the pipeline\n",
    "        '''\n",
    "        print(\"Run pipe ...\")\n",
    "        result = self.prepare_pipe()\n",
    "        pdal_pipe = pdal.Pipeline(json.dumps(self.pipeline))\n",
    "        pdal_result = pdal_pipe.execute()\n",
    "        print(\"Fetching Completed!\")\n",
    "        \n",
    "        \n",
    "    def read_laz(self):\n",
    "        '''\n",
    "        Read Generated Las file\n",
    "        Return laspy read las file\n",
    "        '''\n",
    "        try:\n",
    "            print(\"Reading Las File from :\", self.las_path)\n",
    "            las = laspy.read(self.las_path)\n",
    "            self.las_file = las\n",
    "            return las\n",
    "        \n",
    "        except FileNotFoundError:\n",
    "            print(\"Log: File Not found\")\n",
    "            print(\"Please use the function run_pipe before this funciton\")\n",
    "            \n",
    "    \n",
    "    def generate_points_elevation(self):\n",
    "        '''\n",
    "        Return Points (x, y) and elevation (z)\n",
    "        '''\n",
    "        print(\"Generating Points from las File ...\")\n",
    "        points = [Point(x, y) for x,y in zip(self.las_file.x, self.las_file.y)]\n",
    "        elevation = np.array(self.las_file.z)\n",
    "        \n",
    "        self.points, self.elevation = points, elevation\n",
    "        print(\"Finished Generating Points!\")\n",
    "        \n",
    "        return points, elevation\n",
    "    \n",
    "    \n",
    "    def create_geopandasdf(self):\n",
    "        '''\n",
    "        Return Geopandas data frame from elevation and geometic points\n",
    "        '''\n",
    "        self.read_laz()\n",
    "        self.generate_points_elevation()\n",
    "        \n",
    "        print(\"Making Geopandas Data Frame...\")\n",
    "        geopanda_df = gpd.GeoDataFrame({\"elevation\": self.elevation, \"geometry\":self.points})\n",
    "        geopanda_df.set_geometry('geometry')\n",
    "        geopanda_df.set_crs(epsg=4326, inplace=True)\n",
    "        \n",
    "        self.geo_df = geopanda_df\n",
    "        print(\"Finished Making Geopandas Data Frame!\")\n",
    "        return geopanda_df\n",
    "    \n",
    "    \n",
    "    def get_geopandas_df(self):\n",
    "        return self.geo_df\n",
    "        \n",
    "    "
   ]
  },
  {
   "cell_type": "markdown",
   "id": "5b3617a1-c8ce-4780-ae65-0666eb7b9f2d",
   "metadata": {},
   "source": [
    "### Initial Inputs"
   ]
  },
  {
   "cell_type": "code",
   "execution_count": 17,
   "id": "9f3a9b91-c92f-461e-ad4c-c57b6583c421",
   "metadata": {},
   "outputs": [
    {
     "name": "stdout",
     "output_type": "stream",
     "text": [
      "Run pipe ...\n",
      "File Path :  ./pipeline.json\n",
      "data LInk :  https://s3-us-west-2.amazonaws.com/usgs-lidar-public/IA_FullState/ept.json\n",
      "Fetching Completed!\n"
     ]
    }
   ],
   "source": [
    "MINX, MINY, MAXX, MAXY = [-93.756155, 41.918015, -93.747334, 41.921429]\n",
    "\n",
    "# MINX, MINY, MAXX, MAXY = [-93.756155, 41.918015, -93.756055, 41.918115]\n",
    "\n",
    "polygon = Polygon(((MINX, MINY), (MINX, MAXY),\n",
    "                   (MAXX, MAXY), (MAXX, MINY), (MINX, MINY)))\n",
    "\n",
    "\n",
    "\n",
    "check = FetchAndLoad(polygon)\n",
    "check.run_pipe()"
   ]
  },
  {
   "cell_type": "markdown",
   "id": "a0039930-ae2c-49df-a893-d55214950474",
   "metadata": {},
   "source": [
    "### Generating Geopandas DF from las file"
   ]
  },
  {
   "cell_type": "code",
   "execution_count": 18,
   "id": "9a48b54e-1999-4f4a-adf0-1328574ea0b4",
   "metadata": {},
   "outputs": [
    {
     "name": "stdout",
     "output_type": "stream",
     "text": [
      "Reading Las File from : IA_FullState.las\n",
      "Generating Points from las File ...\n",
      "Finished Generating Points!\n",
      "Making Geopandas Data Frame...\n",
      "Finished Making Geopandas Data Frame!\n"
     ]
    }
   ],
   "source": [
    "check.create_geopandasdf()\n",
    "new_result =  check.get_geopandas_df()"
   ]
  },
  {
   "cell_type": "code",
   "execution_count": 19,
   "id": "dd6dff99-c085-4273-96f9-c315c2656cea",
   "metadata": {},
   "outputs": [
    {
     "data": {
      "text/html": [
       "<div>\n",
       "<style scoped>\n",
       "    .dataframe tbody tr th:only-of-type {\n",
       "        vertical-align: middle;\n",
       "    }\n",
       "\n",
       "    .dataframe tbody tr th {\n",
       "        vertical-align: top;\n",
       "    }\n",
       "\n",
       "    .dataframe thead th {\n",
       "        text-align: right;\n",
       "    }\n",
       "</style>\n",
       "<table border=\"1\" class=\"dataframe\">\n",
       "  <thead>\n",
       "    <tr style=\"text-align: right;\">\n",
       "      <th></th>\n",
       "      <th>elevation</th>\n",
       "      <th>geometry</th>\n",
       "    </tr>\n",
       "  </thead>\n",
       "  <tbody>\n",
       "    <tr>\n",
       "      <th>0</th>\n",
       "      <td>318.49</td>\n",
       "      <td>POINT (-93.75000 41.92000)</td>\n",
       "    </tr>\n",
       "    <tr>\n",
       "      <th>1</th>\n",
       "      <td>318.37</td>\n",
       "      <td>POINT (-93.75000 41.92000)</td>\n",
       "    </tr>\n",
       "    <tr>\n",
       "      <th>2</th>\n",
       "      <td>318.41</td>\n",
       "      <td>POINT (-93.75000 41.92000)</td>\n",
       "    </tr>\n",
       "    <tr>\n",
       "      <th>3</th>\n",
       "      <td>318.15</td>\n",
       "      <td>POINT (-93.75000 41.92000)</td>\n",
       "    </tr>\n",
       "    <tr>\n",
       "      <th>4</th>\n",
       "      <td>318.29</td>\n",
       "      <td>POINT (-93.75000 41.92000)</td>\n",
       "    </tr>\n",
       "  </tbody>\n",
       "</table>\n",
       "</div>"
      ],
      "text/plain": [
       "   elevation                    geometry\n",
       "0     318.49  POINT (-93.75000 41.92000)\n",
       "1     318.37  POINT (-93.75000 41.92000)\n",
       "2     318.41  POINT (-93.75000 41.92000)\n",
       "3     318.15  POINT (-93.75000 41.92000)\n",
       "4     318.29  POINT (-93.75000 41.92000)"
      ]
     },
     "execution_count": 19,
     "metadata": {},
     "output_type": "execute_result"
    }
   ],
   "source": [
    "new_result.head()"
   ]
  },
  {
   "cell_type": "code",
   "execution_count": 35,
   "id": "8c62dfa2-d62b-4f0e-a075-627a106bf95b",
   "metadata": {},
   "outputs": [],
   "source": [
    "# new_result.to_csv('IA_FullState.csv', index=False)"
   ]
  },
  {
   "cell_type": "code",
   "execution_count": 26,
   "id": "71f236bd-0adf-4f4d-ac51-104b470333b9",
   "metadata": {},
   "outputs": [],
   "source": [
    "def get_geopandas_df(elevation, points):\n",
    "    geopanda_df = gpd.GeoDataFrame({\"elevation\":elevation, \"geometry\":points})\n",
    "    geopanda_df.set_geometry('geometry')\n",
    "    geopanda_df.set_crs(epsg=4326, inplace=True)\n",
    "    return geopanda_df"
   ]
  },
  {
   "cell_type": "code",
   "execution_count": 30,
   "id": "e5ee496c-f55a-4aad-8008-2a7b57129519",
   "metadata": {},
   "outputs": [],
   "source": [
    "read_geo_csv = pd.read_csv('IA_FullState.csv')\n"
   ]
  },
  {
   "cell_type": "code",
   "execution_count": 31,
   "id": "2c9e5851-d3c2-4c11-b91b-07ff8ab2302a",
   "metadata": {},
   "outputs": [
    {
     "data": {
      "text/html": [
       "<div>\n",
       "<style scoped>\n",
       "    .dataframe tbody tr th:only-of-type {\n",
       "        vertical-align: middle;\n",
       "    }\n",
       "\n",
       "    .dataframe tbody tr th {\n",
       "        vertical-align: top;\n",
       "    }\n",
       "\n",
       "    .dataframe thead th {\n",
       "        text-align: right;\n",
       "    }\n",
       "</style>\n",
       "<table border=\"1\" class=\"dataframe\">\n",
       "  <thead>\n",
       "    <tr style=\"text-align: right;\">\n",
       "      <th></th>\n",
       "      <th>elevation</th>\n",
       "      <th>geometry</th>\n",
       "    </tr>\n",
       "  </thead>\n",
       "  <tbody>\n",
       "    <tr>\n",
       "      <th>0</th>\n",
       "      <td>318.49</td>\n",
       "      <td>POINT (-93.75 41.92)</td>\n",
       "    </tr>\n",
       "    <tr>\n",
       "      <th>1</th>\n",
       "      <td>318.37</td>\n",
       "      <td>POINT (-93.75 41.92)</td>\n",
       "    </tr>\n",
       "    <tr>\n",
       "      <th>2</th>\n",
       "      <td>318.41</td>\n",
       "      <td>POINT (-93.75 41.92)</td>\n",
       "    </tr>\n",
       "    <tr>\n",
       "      <th>3</th>\n",
       "      <td>318.15</td>\n",
       "      <td>POINT (-93.75 41.92)</td>\n",
       "    </tr>\n",
       "    <tr>\n",
       "      <th>4</th>\n",
       "      <td>318.29</td>\n",
       "      <td>POINT (-93.75 41.92)</td>\n",
       "    </tr>\n",
       "  </tbody>\n",
       "</table>\n",
       "</div>"
      ],
      "text/plain": [
       "   elevation              geometry\n",
       "0     318.49  POINT (-93.75 41.92)\n",
       "1     318.37  POINT (-93.75 41.92)\n",
       "2     318.41  POINT (-93.75 41.92)\n",
       "3     318.15  POINT (-93.75 41.92)\n",
       "4     318.29  POINT (-93.75 41.92)"
      ]
     },
     "execution_count": 31,
     "metadata": {},
     "output_type": "execute_result"
    }
   ],
   "source": [
    "read_geo_csv.head()"
   ]
  },
  {
   "cell_type": "code",
   "execution_count": null,
   "id": "f5a524e1-46a7-4adf-8e4a-b36f5eab14b3",
   "metadata": {},
   "outputs": [],
   "source": []
  },
  {
   "cell_type": "code",
   "execution_count": 25,
   "id": "15ff2820-a90a-42f0-a6b3-1f2110fbca31",
   "metadata": {},
   "outputs": [
    {
     "data": {
      "image/png": "[encoded data removed]",
      "text/plain": [
       "<Figure size 864x720 with 2 Axes>"
      ]
     },
     "metadata": {
      "needs_background": "light"
     },
     "output_type": "display_data"
    }
   ],
   "source": [
    "## Todo, Add Year and return the Data frame.\n",
    "\n",
    "## Save the data frame if possible.\n",
    "import matplotlib.pyplot as plt\n",
    "\n",
    "\n",
    "fig, ax = plt.subplots(1, 1, figsize=(12, 10))\n",
    "\n",
    "new_result.plot(column='elevation', ax=ax, legend=True)\n",
    "plt.show()"
   ]
  },
  {
   "cell_type": "code",
   "execution_count": 39,
   "id": "4220d302-1d9a-44ce-a29c-255aac24da68",
   "metadata": {},
   "outputs": [],
   "source": [
    "import numpy as np\n",
    "import laspy as lp\n",
    "\n",
    "point_cloud=lp.read(\"IA_FullState.las\")"
   ]
  },
  {
   "cell_type": "code",
   "execution_count": 40,
   "id": "8ed5221b-78d8-4fe6-b245-9d3e2b343f90",
   "metadata": {},
   "outputs": [],
   "source": [
    "points = np.vstack((point_cloud.x, point_cloud.y, point_cloud.z)).transpose()\n",
    "colors = np.vstack((point_cloud.red, point_cloud.green, point_cloud.blue)).transpose()"
   ]
  },
  {
   "cell_type": "code",
   "execution_count": 41,
   "id": "dc3662bf-26ab-42ab-b27b-ef572f92fc72",
   "metadata": {},
   "outputs": [],
   "source": [
    "factor=160\n",
    "decimated_points_random = points[::factor]"
   ]
  },
  {
   "cell_type": "code",
   "execution_count": 42,
   "id": "443fcfd0-4baf-4d99-baaf-150507c4a6b5",
   "metadata": {},
   "outputs": [],
   "source": [
    "voxel_size=6\n",
    "nb_vox=np.ceil((np.max(points, axis=0) - np.min(points, axis=0))/voxel_size)"
   ]
  },
  {
   "cell_type": "code",
   "execution_count": 43,
   "id": "f877b5fb-809b-4040-952a-9feb871c0659",
   "metadata": {},
   "outputs": [],
   "source": [
    "non_empty_voxel_keys, inverse, nb_pts_per_voxel = np.unique(((points - np.min(points, axis=0)) // voxel_size).astype(int), axis=0, return_inverse=True, return_counts=True)\n",
    "idx_pts_vox_sorted=np.argsort(inverse)"
   ]
  },
  {
   "cell_type": "code",
   "execution_count": 44,
   "id": "91b51937-4a6f-41c9-b220-8b52e7676069",
   "metadata": {},
   "outputs": [],
   "source": [
    "voxel_grid={}\n",
    "grid_barycenter,grid_candidate_center=[],[]\n",
    "last_seen=0"
   ]
  },
  {
   "cell_type": "code",
   "execution_count": 46,
   "id": "2daf371a-d2d5-42a5-a7dd-380920b06a7c",
   "metadata": {},
   "outputs": [],
   "source": [
    "for idx,vox in enumerate(non_empty_voxel_keys):\n",
    "    voxel_grid[tuple(vox)]= points[idx_pts_vox_sorted[\n",
    "    last_seen:last_seen+nb_pts_per_voxel[idx]]]\n",
    "    grid_barycenter.append(np.mean(voxel_grid[tuple(vox)],axis=0))\n",
    "    grid_candidate_center.append(\n",
    "       voxel_grid[tuple(vox)][np.linalg.norm(voxel_grid[tuple(vox)] -\n",
    "       np.mean(voxel_grid[tuple(vox)],axis=0),axis=1).argmin()])\n",
    "    last_seen+=nb_pts_per_voxel[idx]"
   ]
  },
  {
   "cell_type": "code",
   "execution_count": 50,
   "id": "ef9f5eef-d52e-4009-9bae-4d20a84ae313",
   "metadata": {},
   "outputs": [
    {
     "data": {
      "image/png": "[encoded data removed]",
      "text/plain": [
       "<Figure size 432x288 with 1 Axes>"
      ]
     },
     "metadata": {
      "needs_background": "light"
     },
     "output_type": "display_data"
    }
   ],
   "source": [
    "import matplotlib.pyplot as plt\n",
    "from mpl_toolkits import mplot3d\n",
    "decimated_colors = colors[::factor]\n",
    "ax = plt.axes(projection='3d')\n",
    "ax.scatter(decimated_points_random[:,0], decimated_points_random[:,1], decimated_points_random[:,2], c = decimated_colors/65535, s=0.01)\n",
    "plt.show()"
   ]
  },
  {
   "cell_type": "code",
   "execution_count": null,
   "id": "682389c3-05a2-4f67-b1b2-04bc57793f1d",
   "metadata": {},
   "outputs": [],
   "source": []
  }
 ],
 "metadata": {
  "kernelspec": {
   "display_name": "Python [conda env:root] *",
   "language": "python",
   "name": "conda-root-py"
  },
  "language_info": {
   "codemirror_mode": {
    "name": "ipython",
    "version": 3
   },
   "file_extension": ".py",
   "mimetype": "text/x-python",
   "name": "python",
   "nbconvert_exporter": "python",
   "pygments_lexer": "ipython3",
   "version": "3.9.6"
  }
 },
 "nbformat": 4,
 "nbformat_minor": 5
}
